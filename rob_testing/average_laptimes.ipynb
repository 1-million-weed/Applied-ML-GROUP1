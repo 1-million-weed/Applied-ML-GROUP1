{
 "cells": [
  {
   "cell_type": "code",
   "execution_count": null,
   "id": "ae307d51",
   "metadata": {},
   "outputs": [],
   "source": [
    "import pandas as pd\n",
    "import time\n",
    "import matplotlib.pyplot as plt\n",
    "\n",
    "# Load data\n",
    "races = pd.read_csv(\"data/races.csv\")\n",
    "lap_times = pd.read_csv(\"data/lap_times.csv\")\n",
    "results = pd.read_csv(\"data/results.csv\")\n",
    "\n",
    "for race_id in races['raceId']:\n",
    "    plot_data = {}\n",
    "    race_id  = 1144\n",
    "    \n",
    "    laptimes_race = lap_times[lap_times['raceId'] == race_id]\n",
    "    results_race = results[results['raceId'] == race_id]\n",
    "    amount_of_laps = laptimes_race['lap'].unique().max()\n",
    "    current_shortest = float('inf')\n",
    "    \n",
    "    for lap in laptimes_race['lap'].unique():"
   ]
  }
 ],
 "metadata": {
  "kernelspec": {
   "display_name": ".venv (3.13.3)",
   "language": "python",
   "name": "python3"
  },
  "language_info": {
   "name": "python",
   "version": "3.13.3"
  }
 },
 "nbformat": 4,
 "nbformat_minor": 5
}
